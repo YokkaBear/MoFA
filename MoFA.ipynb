{
 "cells": [
  {
   "cell_type": "markdown",
   "metadata": {},
   "source": [
    "# MoFA: Model-based Deep Convolutional Face Autoencoder\n",
    "for Unsupervised Monocular Reconstruction\n",
    "https://arxiv.org/pdf/1703.10580v1.pdf"
   ]
  },
  {
   "cell_type": "markdown",
   "metadata": {},
   "source": [
    "# 3d_face_dataset\n",
    "http://gravis.dmi.unibas.ch/publications/2009/BFModel09.pdf"
   ]
  },
  {
   "cell_type": "code",
   "execution_count": 3,
   "metadata": {
    "collapsed": true
   },
   "outputs": [],
   "source": [
    "import scipy.io\n",
    "import numpy as np"
   ]
  },
  {
   "cell_type": "code",
   "execution_count": 4,
   "metadata": {
    "collapsed": false
   },
   "outputs": [],
   "source": [
    "BFM_path='./data/MorphableModel.mat'\n",
    "model = scipy.io.loadmat(BFM_path,squeeze_me=True,struct_as_record=False)\n"
   ]
  },
  {
   "cell_type": "code",
   "execution_count": 50,
   "metadata": {
    "collapsed": false
   },
   "outputs": [
    {
     "data": {
      "text/plain": [
       "dict_keys(['__header__', '__version__', '__globals__', 'tl', 'shapeMU', 'shapePC', 'shapeEV', 'texMU', 'texPC', 'texEV', 'segbin', 'segMM', 'segMB'])"
      ]
     },
     "execution_count": 50,
     "metadata": {},
     "output_type": "execute_result"
    }
   ],
   "source": [
    "model.keys()"
   ]
  },
  {
   "cell_type": "code",
   "execution_count": 63,
   "metadata": {
    "collapsed": false,
    "scrolled": true
   },
   "outputs": [
    {
     "name": "stdout",
     "output_type": "stream",
     "text": [
      "tl (106466, 3)\n",
      "shapeMU (160470,)\n",
      "shapePC (160470, 199)\n",
      "shapeEV (199,)\n",
      "texMU (160470,)\n",
      "texPC (160470, 199)\n",
      "texEV (199,)\n",
      "segbin (53490, 4)\n",
      "segMM (53490, 53490)\n",
      "segMB (53490, 213960)\n"
     ]
    }
   ],
   "source": [
    "for i in [ 'tl','shapeMU', 'shapePC', 'shapeEV', 'texMU', 'texPC', 'texEV', 'segbin', 'segMM', 'segMB']:\n",
    "    print(i,model[i].shape)"
   ]
  },
  {
   "cell_type": "markdown",
   "metadata": {},
   "source": [
    "### the faces are parameterized as triangular  meshes  with m= 53490  vertices  and  shared topology."
   ]
  },
  {
   "cell_type": "markdown",
   "metadata": {},
   "source": [
    "# A face is then represented by two 3m dimensional vectors"
   ]
  },
  {
   "cell_type": "code",
   "execution_count": null,
   "metadata": {
    "collapsed": true
   },
   "outputs": [],
   "source": []
  }
 ],
 "metadata": {
  "kernelspec": {
   "display_name": "Python 3",
   "language": "python",
   "name": "python3"
  },
  "language_info": {
   "codemirror_mode": {
    "name": "ipython",
    "version": 3
   },
   "file_extension": ".py",
   "mimetype": "text/x-python",
   "name": "python",
   "nbconvert_exporter": "python",
   "pygments_lexer": "ipython3",
   "version": "3.6.0"
  }
 },
 "nbformat": 4,
 "nbformat_minor": 2
}
