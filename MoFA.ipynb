{
 "cells": [
  {
   "cell_type": "markdown",
   "metadata": {},
   "source": [
    "MoFA: Model-based Deep Convolutional Face Autoencoder\n",
    "for Unsupervised Monocular Reconstruction\n",
    "https://arxiv.org/pdf/1703.10580v1.pdf"
   ]
  },
  {
   "cell_type": "markdown",
   "metadata": {},
   "source": [
    "https://arxiv.org/pdf/1612.04904.pdf"
   ]
  },
  {
   "cell_type": "markdown",
   "metadata": {},
   "source": [
    "- 3d_face_dataset\n",
    "http://gravis.dmi.unibas.ch/publications/2009/BFModel09.pdf\n",
    "- details\n",
    "http://faces.cs.unibas.ch/bfm/main.php?nav=1-1-0&id=details\n",
    "- how to use  \n",
    "https://github.com/anhttran/3dmm_cnn  \n",
    "https://github.com/menpo/lsfm"
   ]
  },
  {
   "cell_type": "markdown",
   "metadata": {},
   "source": [
    "# 0. explore dataset"
   ]
  },
  {
   "cell_type": "markdown",
   "metadata": {},
   "source": [
    "A 3DMM consists of a parameterized generative 3D\n",
    "shape, and a parameterized albedo model together with\n",
    "an  associated  probability  density  on  the  model  coef-\n",
    "ficients.    A  set  of  shape  and  albedo  coefficients  de-\n",
    "scribes a face.  Together with projection and illumina-\n",
    "tion parameters a rendering of the face can be gener-\n",
    "ated.Given a face image one can also solve the inverse\n",
    "problem  of  finding  the  coefficients  which  most  likely\n",
    "generated the image.\n",
    "\n",
    "the faces are parameterized as triangular  meshes  with m= 53490  vertices  and  shared topology.\n",
    "A face is then represented by two 3m dimensional vectors"
   ]
  },
  {
   "cell_type": "markdown",
   "metadata": {},
   "source": [
    "Basel Face Model - Details\n",
    "Details of the Basel Face Model\n",
    "\n",
    "The geometry of the BFM consists of 53,490 3D vertices connected by 160,470 triangles. Faces of different identities can be composed as linear combinations of 199 principal components. The model is given by:\n",
    "\n",
    "The average shape\n",
    "The principal shape components\n",
    "The shape variance\n",
    "The mesh topology\n",
    "The average texture\n",
    "The principal texture components\n",
    "The texture variance "
   ]
  },
  {
   "cell_type": "code",
   "execution_count": 1,
   "metadata": {
    "collapsed": true
   },
   "outputs": [],
   "source": [
    "import scipy.io\n",
    "import numpy as np"
   ]
  },
  {
   "cell_type": "code",
   "execution_count": 2,
   "metadata": {
    "collapsed": false
   },
   "outputs": [],
   "source": [
    "BFM_path='./data/MorphableModel.mat'\n",
    "model = scipy.io.loadmat(BFM_path,squeeze_me=True,struct_as_record=False)"
   ]
  },
  {
   "cell_type": "code",
   "execution_count": 3,
   "metadata": {
    "collapsed": false,
    "scrolled": true
   },
   "outputs": [
    {
     "data": {
      "text/plain": [
       "dict_keys(['__header__', '__version__', '__globals__', 'tl', 'shapeMU', 'shapePC', 'shapeEV', 'texMU', 'texPC', 'texEV', 'segbin', 'segMM', 'segMB'])"
      ]
     },
     "execution_count": 3,
     "metadata": {},
     "output_type": "execute_result"
    }
   ],
   "source": [
    "model.keys()"
   ]
  },
  {
   "cell_type": "code",
   "execution_count": 21,
   "metadata": {
    "collapsed": true
   },
   "outputs": [],
   "source": [
    "s=\"\"\"The mesh topology\n",
    "The average shape\n",
    "The principal shape components\n",
    "The shape variance\n",
    "The average texture\n",
    "The principal texture components\n",
    "The texture variance \"\"\"\n",
    "s.strip(' ')\n",
    "s1=s.split('\\n')"
   ]
  },
  {
   "cell_type": "code",
   "execution_count": 22,
   "metadata": {
    "collapsed": false,
    "scrolled": false
   },
   "outputs": [
    {
     "name": "stdout",
     "output_type": "stream",
     "text": [
      "tl The mesh topology (106466, 3)\n",
      "shapeMU The average shape (160470,)\n",
      "shapePC The principal shape components (160470, 199)\n",
      "shapeEV The shape variance (199,)\n",
      "texMU The average texture (160470,)\n",
      "texPC The principal texture components (160470, 199)\n",
      "texEV The texture variance  (199,)\n"
     ]
    }
   ],
   "source": [
    "use_key=[ 'tl','shapeMU', 'shapePC', 'shapeEV', 'texMU', 'texPC', 'texEV']\n",
    "\n",
    "for i,d in zip(use_key,s1):\n",
    "    print(i,d,model[i].shape)"
   ]
  },
  {
   "cell_type": "code",
   "execution_count": null,
   "metadata": {
    "collapsed": true
   },
   "outputs": [],
   "source": []
  }
 ],
 "metadata": {
  "kernelspec": {
   "display_name": "Python 3",
   "language": "python",
   "name": "python3"
  },
  "language_info": {
   "codemirror_mode": {
    "name": "ipython",
    "version": 3
   },
   "file_extension": ".py",
   "mimetype": "text/x-python",
   "name": "python",
   "nbconvert_exporter": "python",
   "pygments_lexer": "ipython3",
   "version": "3.6.0"
  }
 },
 "nbformat": 4,
 "nbformat_minor": 2
}
